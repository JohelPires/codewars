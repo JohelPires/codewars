{
 "cells": [
  {
   "cell_type": "code",
   "execution_count": 1,
   "metadata": {},
   "outputs": [
    {
     "name": "stdout",
     "output_type": "stream",
     "text": [
      "[[69  5  3 66 11 14 40 48 30]\n",
      " [62 23 23 68 29  7 91 64 32]\n",
      " [69 55 52 64 37 48 67 21  7]\n",
      " [61 19 85 66 15 38 23 84 92]\n",
      " [ 9 86 67 97  2 67 37 80 12]\n",
      " [91 48 17 39 46  7 16 18 69]\n",
      " [71 63 31 47 82 36 44 23 51]\n",
      " [42 66 53 25 11 67 44 33  7]\n",
      " [12 91 41 10 18 80 50 79 81]]\n",
      "<class 'pandas.core.frame.DataFrame'>\n",
      "RangeIndex: 9074 entries, 0 to 9073\n",
      "Data columns (total 2 columns):\n",
      " #   Column  Non-Null Count  Dtype  \n",
      "---  ------  --------------  -----  \n",
      " 0   data    9074 non-null   object \n",
      " 1   valor   9074 non-null   float64\n",
      "dtypes: float64(1), object(1)\n",
      "memory usage: 141.9+ KB\n",
      "None\n"
     ]
    }
   ],
   "source": [
    "import numpy as np\n",
    "import pandas as pd\n",
    "\n",
    "teste = np.zeros((9,9))\n",
    "m4 = np.random.randint(low=0, high=100, size=81).reshape(9, 9)\n",
    "\n",
    "print(m4)\n",
    "\n",
    "\n",
    "\n",
    "selic = pd.read_json(\"https://api.bcb.gov.br/dados/serie/bcdata.sgs.11/dados?formato=json\")\n",
    "# cities = pd.read_csv(\"https://people.sc.fsu.edu/~jburkardt/data/csv/cities.csv\")\n",
    "\n",
    "print(selic.info())"
   ]
  },
  {
   "cell_type": "code",
   "execution_count": 2,
   "metadata": {},
   "outputs": [
    {
     "name": "stdout",
     "output_type": "stream",
     "text": [
      "            data     valor data da extração    responsável\n",
      "0     04/06/1986  0.065041       2022-08-16  Fulano de Tal\n",
      "1     05/06/1986  0.067397       2022-08-16  Fulano de Tal\n",
      "2     06/06/1986  0.066740       2022-08-16  Fulano de Tal\n",
      "3     09/06/1986  0.068247       2022-08-16  Fulano de Tal\n",
      "4     10/06/1986  0.067041       2022-08-16  Fulano de Tal\n",
      "...          ...       ...              ...            ...\n",
      "9069  09/08/2022  0.050788       2022-08-16  Fulano de Tal\n",
      "9070  10/08/2022  0.050788       2022-08-16  Fulano de Tal\n",
      "9071  11/08/2022  0.050788       2022-08-16  Fulano de Tal\n",
      "9072  12/08/2022  0.050788       2022-08-16  Fulano de Tal\n",
      "9073  15/08/2022  0.050788       2022-08-16  Fulano de Tal\n",
      "\n",
      "[9074 rows x 4 columns]\n"
     ]
    }
   ],
   "source": [
    "from datetime import date\n",
    "from datetime import datetime as dt\n",
    "\n",
    "dataExtract = date.today()\n",
    "\n",
    "selic['data da extração'] = dataExtract\n",
    "selic['responsável'] = 'Fulano de Tal'\n",
    "\n",
    "print(selic)"
   ]
  },
  {
   "cell_type": "code",
   "execution_count": 5,
   "metadata": {},
   "outputs": [
    {
     "name": "stdout",
     "output_type": "stream",
     "text": [
      "           data     valor data da extração    responsável\n",
      "0    1986-06-04  0.065041       2022-08-16  Fulano de Tal\n",
      "1    1986-06-05  0.067397       2022-08-16  Fulano de Tal\n",
      "2    1986-06-06  0.066740       2022-08-16  Fulano de Tal\n",
      "3    1986-06-09  0.068247       2022-08-16  Fulano de Tal\n",
      "4    1986-06-10  0.067041       2022-08-16  Fulano de Tal\n",
      "...         ...       ...              ...            ...\n",
      "9069 2022-08-09  0.050788       2022-08-16  Fulano de Tal\n",
      "9070 2022-08-10  0.050788       2022-08-16  Fulano de Tal\n",
      "9071 2022-08-11  0.050788       2022-08-16  Fulano de Tal\n",
      "9072 2022-08-12  0.050788       2022-08-16  Fulano de Tal\n",
      "9073 2022-08-15  0.050788       2022-08-16  Fulano de Tal\n",
      "\n",
      "[9074 rows x 4 columns]\n"
     ]
    }
   ],
   "source": [
    "selic['data'] = pd.to_datetime(selic['data'], dayfirst=True)\n",
    "print(selic)"
   ]
  },
  {
   "cell_type": "markdown",
   "metadata": {},
   "source": [
    "## Filtros:"
   ]
  },
  {
   "cell_type": "code",
   "execution_count": 9,
   "metadata": {},
   "outputs": [],
   "source": [
    "data1 = pd.to_datetime('2020-01-01')\n",
    "data2 = pd.to_datetime('2020-01-31')\n",
    "\n",
    "filtro_janeiro_2020 = (selic['data'] > data1) & (selic['data'] < data2)\n",
    "\n",
    "selic_janeiro_2020 = selic.loc[filtro_janeiro_2020]"
   ]
  },
  {
   "cell_type": "code",
   "execution_count": 10,
   "metadata": {},
   "outputs": [],
   "source": [
    "data1 = pd.to_datetime('2019-01-01')\n",
    "data2 = pd.to_datetime('2019-01-31')\n",
    "\n",
    "filtro_janeiro_2019 = (selic['data'] > data1) & (selic['data'] < data2)\n",
    "\n",
    "selic_janeiro_2019 = selic.loc[filtro_janeiro_2019]"
   ]
  },
  {
   "cell_type": "code",
   "execution_count": 12,
   "metadata": {},
   "outputs": [
    {
     "name": "stdout",
     "output_type": "stream",
     "text": [
      "Mínimo geral =  0.0\n",
      "Mínimo janeiro de 2019 =  0.02462\n",
      "Mínimo janeiro de 2020 =  0.017089 \n",
      "\n",
      "Máximo geral =  3.626\n",
      "Máximo janeiro de 2019 =  0.02462\n",
      "Máximo janeiro de 2020 =  0.017089 \n",
      "\n",
      "Média geral =  0.2712102972228345\n",
      "Média janeiro de 2019 =  0.024619999999999996\n",
      "Média janeiro de 2020 =  0.017089000000000003 \n",
      "\n"
     ]
    }
   ],
   "source": [
    "print('Mínimo geral = ', selic['valor'].min())\n",
    "print('Mínimo janeiro de 2019 = ', selic_janeiro_2019['valor'].min())\n",
    "print('Mínimo janeiro de 2020 = ',selic_janeiro_2020['valor'].min(), '\\n')\n",
    "\n",
    "print('Máximo geral = ', selic['valor'].max())\n",
    "print('Máximo janeiro de 2019 = ', selic_janeiro_2019['valor'].max())\n",
    "print('Máximo janeiro de 2020 = ',selic_janeiro_2020['valor'].max(), '\\n')\n",
    "\n",
    "print('Média geral = ', selic['valor'].mean())\n",
    "print('Média janeiro de 2019 = ', selic_janeiro_2019['valor'].mean())\n",
    "print('Média janeiro de 2020 = ',selic_janeiro_2020['valor'].mean(), '\\n')"
   ]
  }
 ],
 "metadata": {
  "kernelspec": {
   "display_name": "Python 3 (ipykernel)",
   "language": "python",
   "name": "python3"
  },
  "language_info": {
   "codemirror_mode": {
    "name": "ipython",
    "version": 3
   },
   "file_extension": ".py",
   "mimetype": "text/x-python",
   "name": "python",
   "nbconvert_exporter": "python",
   "pygments_lexer": "ipython3",
   "version": "3.10.5"
  }
 },
 "nbformat": 4,
 "nbformat_minor": 4
}
