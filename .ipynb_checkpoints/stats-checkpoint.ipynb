{
 "cells": [
  {
   "cell_type": "code",
   "execution_count": 35,
   "id": "633a42dd",
   "metadata": {},
   "outputs": [],
   "source": [
    "import numpy as np\n",
    "import matplotlib.pyplot as plt\n",
    "import seaborn as sns"
   ]
  },
  {
   "cell_type": "code",
   "execution_count": 14,
   "id": "103922c2",
   "metadata": {},
   "outputs": [],
   "source": [
    "a = np.linspace(0, 10, 10)"
   ]
  },
  {
   "cell_type": "code",
   "execution_count": 19,
   "id": "0e1ce233",
   "metadata": {},
   "outputs": [],
   "source": [
    "b = np.zeros((10,10))"
   ]
  },
  {
   "cell_type": "code",
   "execution_count": 25,
   "id": "af5971ce",
   "metadata": {},
   "outputs": [],
   "source": [
    "c = np.linspace(0,100,100)"
   ]
  },
  {
   "cell_type": "code",
   "execution_count": 26,
   "id": "0f3cefa6",
   "metadata": {},
   "outputs": [
    {
     "data": {
      "text/plain": [
       "100"
      ]
     },
     "execution_count": 26,
     "metadata": {},
     "output_type": "execute_result"
    }
   ],
   "source": [
    "len(c)"
   ]
  },
  {
   "cell_type": "code",
   "execution_count": 27,
   "id": "fe8054a6",
   "metadata": {},
   "outputs": [
    {
     "data": {
      "text/plain": [
       "array([[  0.        ,   1.01010101,   2.02020202,   3.03030303,\n",
       "          4.04040404,   5.05050505,   6.06060606,   7.07070707,\n",
       "          8.08080808,   9.09090909],\n",
       "       [ 10.1010101 ,  11.11111111,  12.12121212,  13.13131313,\n",
       "         14.14141414,  15.15151515,  16.16161616,  17.17171717,\n",
       "         18.18181818,  19.19191919],\n",
       "       [ 20.2020202 ,  21.21212121,  22.22222222,  23.23232323,\n",
       "         24.24242424,  25.25252525,  26.26262626,  27.27272727,\n",
       "         28.28282828,  29.29292929],\n",
       "       [ 30.3030303 ,  31.31313131,  32.32323232,  33.33333333,\n",
       "         34.34343434,  35.35353535,  36.36363636,  37.37373737,\n",
       "         38.38383838,  39.39393939],\n",
       "       [ 40.4040404 ,  41.41414141,  42.42424242,  43.43434343,\n",
       "         44.44444444,  45.45454545,  46.46464646,  47.47474747,\n",
       "         48.48484848,  49.49494949],\n",
       "       [ 50.50505051,  51.51515152,  52.52525253,  53.53535354,\n",
       "         54.54545455,  55.55555556,  56.56565657,  57.57575758,\n",
       "         58.58585859,  59.5959596 ],\n",
       "       [ 60.60606061,  61.61616162,  62.62626263,  63.63636364,\n",
       "         64.64646465,  65.65656566,  66.66666667,  67.67676768,\n",
       "         68.68686869,  69.6969697 ],\n",
       "       [ 70.70707071,  71.71717172,  72.72727273,  73.73737374,\n",
       "         74.74747475,  75.75757576,  76.76767677,  77.77777778,\n",
       "         78.78787879,  79.7979798 ],\n",
       "       [ 80.80808081,  81.81818182,  82.82828283,  83.83838384,\n",
       "         84.84848485,  85.85858586,  86.86868687,  87.87878788,\n",
       "         88.88888889,  89.8989899 ],\n",
       "       [ 90.90909091,  91.91919192,  92.92929293,  93.93939394,\n",
       "         94.94949495,  95.95959596,  96.96969697,  97.97979798,\n",
       "         98.98989899, 100.        ]])"
      ]
     },
     "execution_count": 27,
     "metadata": {},
     "output_type": "execute_result"
    }
   ],
   "source": [
    "c.reshape((10,10))"
   ]
  },
  {
   "cell_type": "code",
   "execution_count": 18,
   "id": "d5d7c882",
   "metadata": {},
   "outputs": [
    {
     "data": {
      "text/plain": [
       "array([[ 0,  1,  2,  3,  4,  5,  6,  7,  8,  9],\n",
       "       [10, 11, 12, 13, 14, 15, 16, 17, 18, 19]])"
      ]
     },
     "execution_count": 18,
     "metadata": {},
     "output_type": "execute_result"
    }
   ],
   "source": [
    "np.array([np.arange(0,10), np.arange(10,20)])"
   ]
  },
  {
   "cell_type": "code",
   "execution_count": 31,
   "id": "1bc62997",
   "metadata": {},
   "outputs": [],
   "source": [
    "d = np.random.randint(1, 7, 6000)"
   ]
  },
  {
   "cell_type": "code",
   "execution_count": 32,
   "id": "44a93ba8",
   "metadata": {},
   "outputs": [
    {
     "data": {
      "text/plain": [
       "array([1, 1, 3, ..., 6, 4, 6])"
      ]
     },
     "execution_count": 32,
     "metadata": {},
     "output_type": "execute_result"
    }
   ],
   "source": []
  },
  {
   "cell_type": "code",
   "execution_count": 37,
   "id": "0cfce7b1",
   "metadata": {},
   "outputs": [
    {
     "data": {
      "image/png": "[encoded data removed]",
      "text/plain": [
       "<Figure size 640x480 with 1 Axes>"
      ]
     },
     "metadata": {},
     "output_type": "display_data"
    }
   ],
   "source": [
    "sns.countplot(x=d);"
   ]
  },
  {
   "cell_type": "code",
   "execution_count": 40,
   "id": "d27613cd",
   "metadata": {},
   "outputs": [
    {
     "data": {
      "text/plain": [
       "array([5, 5, 5, 3, 6, 3, 5, 2, 6, 2])"
      ]
     },
     "execution_count": 40,
     "metadata": {},
     "output_type": "execute_result"
    }
   ],
   "source": [
    "np.random.binomial(10, 0.5, 10)"
   ]
  },
  {
   "cell_type": "code",
   "execution_count": null,
   "id": "87949738",
   "metadata": {},
   "outputs": [],
   "source": []
  }
 ],
 "metadata": {
  "kernelspec": {
   "display_name": "Python 3 (ipykernel)",
   "language": "python",
   "name": "python3"
  },
  "language_info": {
   "codemirror_mode": {
    "name": "ipython",
    "version": 3
   },
   "file_extension": ".py",
   "mimetype": "text/x-python",
   "name": "python",
   "nbconvert_exporter": "python",
   "pygments_lexer": "ipython3",
   "version": "3.10.6"
  }
 },
 "nbformat": 4,
 "nbformat_minor": 5
}
