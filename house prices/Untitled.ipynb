{
 "cells": [
  {
   "cell_type": "markdown",
   "id": "e5f253ee",
   "metadata": {},
   "source": [
    "# AULA ATIVIDADE ALUNO - Teleaula: 04\n",
    "\n",
    "##### Nome: Johel Pires de Avelar"
   ]
  },
  {
   "cell_type": "markdown",
   "id": "2ddc9000",
   "metadata": {},
   "source": [
    "## Atividade 1\n",
    "\n",
    "teste"
   ]
  }
 ],
 "metadata": {
  "kernelspec": {
   "display_name": "Python 3 (ipykernel)",
   "language": "python",
   "name": "python3"
  },
  "language_info": {
   "codemirror_mode": {
    "name": "ipython",
    "version": 3
   },
   "file_extension": ".py",
   "mimetype": "text/x-python",
   "name": "python",
   "nbconvert_exporter": "python",
   "pygments_lexer": "ipython3",
   "version": "3.10.7"
  }
 },
 "nbformat": 4,
 "nbformat_minor": 5
}
