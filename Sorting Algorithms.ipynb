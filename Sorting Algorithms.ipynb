{
 "cells": [
  {
   "cell_type": "markdown",
   "id": "80e20b83-40c5-40aa-885b-a517aaa56529",
   "metadata": {},
   "source": [
    "# Sorting Algorithms in Python"
   ]
  },
  {
   "cell_type": "code",
   "execution_count": 15,
   "id": "91100b24-648d-4504-a9d3-8cd6da3462f8",
   "metadata": {},
   "outputs": [
    {
     "name": "stdout",
     "output_type": "stream",
     "text": [
      "[230, 321, 395, 814, 786, 554, 23, 197, 380, 323, 185, 990, 513, 510, 884, 779, 520, 506, 96, 633, 693, 694, 650, 925, 826, 335, 925, 585, 360, 636, 69, 871, 702, 997, 985, 699, 629, 363, 888, 205, 292, 213, 303, 203, 986, 929, 628, 134, 55, 498, 428, 774, 905, 784, 916, 655, 830, 624, 396, 593, 784, 139, 723, 569, 415, 690, 63, 91, 530, 324, 750, 912, 358, 648, 895, 727, 828, 173, 447, 20, 288, 932, 917, 276, 717, 7, 325, 735, 413, 117, 164, 269, 475, 616, 568, 371, 729, 889, 192]\n"
     ]
    }
   ],
   "source": [
    "import random\n",
    "\n",
    "nums = []\n",
    "for i in range(1, 100):\n",
    "    num = random.randint(1, 1000)\n",
    "    nums.append(num)\n",
    "print(nums)"
   ]
  },
  {
   "cell_type": "markdown",
   "id": "fab4967d-8849-4f6b-aba1-70dc33730c21",
   "metadata": {},
   "source": [
    "## Bubble Sort"
   ]
  },
  {
   "cell_type": "code",
   "execution_count": 8,
   "id": "776db726-82a6-4db7-bda0-1b60efb5d344",
   "metadata": {},
   "outputs": [],
   "source": [
    "def bubbleSort(lista):\n",
    "    lastElIdx = len(lista)\n",
    "    for x in range(lastElIdx, 0, -1):\n",
    "        for i in range(1, lastElIdx):\n",
    "            if lista[i-1] > lista[i]:\n",
    "                lista[i-1],lista[i] = lista[i],lista[i-1]\n",
    "    print(lista)"
   ]
  },
  {
   "cell_type": "code",
   "execution_count": 16,
   "id": "2a7ed9fb-0526-429b-a2f3-16cb9bfdafd6",
   "metadata": {},
   "outputs": [
    {
     "name": "stdout",
     "output_type": "stream",
     "text": [
      "[7, 20, 23, 55, 63, 69, 91, 96, 117, 134, 139, 164, 173, 185, 192, 197, 203, 205, 213, 230, 269, 276, 288, 292, 303, 321, 323, 324, 325, 335, 358, 360, 363, 371, 380, 395, 396, 413, 415, 428, 447, 475, 498, 506, 510, 513, 520, 530, 554, 568, 569, 585, 593, 616, 624, 628, 629, 633, 636, 648, 650, 655, 690, 693, 694, 699, 702, 717, 723, 727, 729, 735, 750, 774, 779, 784, 784, 786, 814, 826, 828, 830, 871, 884, 888, 889, 895, 905, 912, 916, 917, 925, 925, 929, 932, 985, 986, 990, 997]\n"
     ]
    }
   ],
   "source": [
    "bubbleSort(nums)"
   ]
  },
  {
   "cell_type": "markdown",
   "id": "77ba0fe2-7448-4f87-a6e3-f0566afa0161",
   "metadata": {},
   "source": [
    "## Insertion Sort"
   ]
  },
  {
   "cell_type": "code",
   "execution_count": null,
   "id": "ac000306-c806-472f-9e57-c1d742a88635",
   "metadata": {},
   "outputs": [],
   "source": [
    "def insertionSort(lista):\n",
    "    "
   ]
  }
 ],
 "metadata": {
  "kernelspec": {
   "display_name": "Python 3 (ipykernel)",
   "language": "python",
   "name": "python3"
  },
  "language_info": {
   "codemirror_mode": {
    "name": "ipython",
    "version": 3
   },
   "file_extension": ".py",
   "mimetype": "text/x-python",
   "name": "python",
   "nbconvert_exporter": "python",
   "pygments_lexer": "ipython3",
   "version": "3.10.5"
  }
 },
 "nbformat": 4,
 "nbformat_minor": 5
}
